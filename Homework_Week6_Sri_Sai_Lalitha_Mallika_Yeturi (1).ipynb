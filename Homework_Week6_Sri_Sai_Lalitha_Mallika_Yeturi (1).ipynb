{
  "nbformat": 4,
  "nbformat_minor": 0,
  "metadata": {
    "colab": {
      "provenance": []
    },
    "kernelspec": {
      "name": "python3",
      "display_name": "Python 3"
    },
    "language_info": {
      "name": "python"
    }
  },
  "cells": [
    {
      "cell_type": "markdown",
      "source": [
        "# 1. Build your own neural network with 3 hidden layers using pytorch (60 points)\n",
        "\n"
      ],
      "metadata": {
        "id": "11AoMha_MYQi"
      }
    },
    {
      "cell_type": "code",
      "source": [
        "import numpy as np\n",
        "import pandas as pd\n",
        "import matplotlib.pyplot as plt\n",
        "import cv2\n",
        "from PIL import Image\n",
        "import os\n",
        "from torch.utils.data import Dataset, DataLoader\n",
        "from skimage import color\n",
        "import torch\n",
        "import torch.nn as nn\n",
        "import torch.optim as optim\n",
        "import torch\n",
        "import torch.nn as nn\n",
        "import torch.optim as optim\n",
        "from torchvision import datasets, transforms\n",
        "from torch.utils.data import DataLoader, ConcatDataset, Dataset\n",
        "from PIL import Image\n",
        "import pandas as pd\n",
        "import os"
      ],
      "metadata": {
        "id": "R0qajWwCquRj"
      },
      "execution_count": 1,
      "outputs": []
    },
    {
      "cell_type": "code",
      "source": [
        "from google.colab import drive\n",
        "drive.mount('/content/drive')\n"
      ],
      "metadata": {
        "colab": {
          "base_uri": "https://localhost:8080/"
        },
        "id": "GF6nU-6fvS4g",
        "outputId": "7cc090cb-2117-4b3e-92da-e98972b916c2"
      },
      "execution_count": 2,
      "outputs": [
        {
          "output_type": "stream",
          "name": "stdout",
          "text": [
            "Mounted at /content/drive\n"
          ]
        }
      ]
    },
    {
      "cell_type": "code",
      "source": [
        "# Define the Neural Network with 3 Hidden Layers\n",
        "class NeuralNetwork(nn.Module):\n",
        "    def __init__(self, input_size, hidden_size1, hidden_size2, hidden_size3, num_classes):\n",
        "        super(NeuralNetwork, self).__init__()\n",
        "        self.fc1 = nn.Linear(input_size, hidden_size1)\n",
        "        self.fc2 = nn.Linear(hidden_size1, hidden_size2)\n",
        "        self.fc3 = nn.Linear(hidden_size2, hidden_size3)\n",
        "        self.fc4 = nn.Linear(hidden_size3, num_classes)\n",
        "        self.relu = nn.ReLU()  # Activation function\n",
        "\n",
        "    def forward(self, x):\n",
        "        x = x.view(x.size(0), -1)  # Flatten the input tensor\n",
        "        x = self.relu(self.fc1(x))\n",
        "        x = self.relu(self.fc2(x))\n",
        "        x = self.relu(self.fc3(x))\n",
        "        x = self.fc4(x)  # No activation on the final layer (raw logits)\n",
        "        return x\n",
        "\n",
        "# Hyperparameters (Adjust as needed)\n",
        "input_size = 75 * 75 * 3  # Flattened size for 75x75 RGB images\n",
        "hidden_size1 = 512\n",
        "hidden_size2 = 256\n",
        "hidden_size3 = 128\n",
        "num_classes = 3  # Example: 3 classes\n",
        "\n",
        "# Instantiate the model\n",
        "model = NeuralNetwork(input_size, hidden_size1, hidden_size2, hidden_size3, num_classes)\n",
        "\n",
        "# Print the model architecture\n",
        "print(model)"
      ],
      "metadata": {
        "colab": {
          "base_uri": "https://localhost:8080/"
        },
        "id": "MtI3sHoNvaB0",
        "outputId": "b77ba1de-5039-4786-a24c-c73ee228d31f"
      },
      "execution_count": 3,
      "outputs": [
        {
          "output_type": "stream",
          "name": "stdout",
          "text": [
            "NeuralNetwork(\n",
            "  (fc1): Linear(in_features=16875, out_features=512, bias=True)\n",
            "  (fc2): Linear(in_features=512, out_features=256, bias=True)\n",
            "  (fc3): Linear(in_features=256, out_features=128, bias=True)\n",
            "  (fc4): Linear(in_features=128, out_features=3, bias=True)\n",
            "  (relu): ReLU()\n",
            ")\n"
          ]
        }
      ]
    },
    {
      "cell_type": "markdown",
      "source": [
        " ## 2. Train your model using cow teat datasets (30 points)\n",
        "\n",
        "## You can resize the image to 75 * 75 *3"
      ],
      "metadata": {
        "id": "ijvwuHVVMkW4"
      }
    },
    {
      "cell_type": "code",
      "source": [
        "\n",
        "# Device configuration\n",
        "device = torch.device('cuda' if torch.cuda.is_available() else 'cpu')\n",
        "\n",
        "# Define transformations (Resize to 75x75 and convert to Tensor)\n",
        "transform = transforms.Compose([\n",
        "    transforms.Resize((75, 75)),\n",
        "    transforms.ToTensor()\n",
        "])\n",
        "\n",
        "# Load the two training datasets using ImageFolder\n",
        "train_dataset1 = datasets.ImageFolder(root='/content/drive/My Drive/Train_1', transform=transform)\n",
        "train_dataset2 = datasets.ImageFolder(root='/content/drive/My Drive/Train_2', transform=transform)\n",
        "\n",
        "# Combine the two training datasets\n",
        "combined_train_dataset = ConcatDataset([train_dataset1, train_dataset2])\n",
        "train_loader = DataLoader(combined_train_dataset, batch_size=32, shuffle=True)\n",
        "\n",
        "# Custom dataset class for test data without subdirectories\n",
        "class CustomTestDataset(Dataset):\n",
        "    def __init__(self, root_dir, transform=None):\n",
        "        self.root_dir = root_dir\n",
        "        self.transform = transform\n",
        "        self.image_paths = [os.path.join(root_dir, fname)\n",
        "                            for fname in os.listdir(root_dir)\n",
        "                            if fname.endswith(('jpg', 'jpeg', 'png'))]\n",
        "\n",
        "    def __len__(self):\n",
        "        return len(self.image_paths)\n",
        "\n",
        "    def __getitem__(self, idx):\n",
        "        img_path = self.image_paths[idx]\n",
        "        image = Image.open(img_path).convert('RGB')\n",
        "        if self.transform:\n",
        "            image = self.transform(image)\n",
        "        filename = os.path.basename(img_path)\n",
        "        return image, filename\n",
        "\n",
        "# Load the test dataset using the custom dataset class\n",
        "test_dataset = CustomTestDataset(root_dir='/content/drive/My Drive/Test dataset', transform=transform)\n",
        "test_loader = DataLoader(test_dataset, batch_size=32, shuffle=False)\n",
        "\n",
        "# Define the Neural Network class\n",
        "class NeuralNetwork(nn.Module):\n",
        "    def __init__(self, input_size, hidden_size1, hidden_size2, hidden_size3, num_classes):\n",
        "        super(NeuralNetwork, self).__init__()\n",
        "        self.fc1 = nn.Linear(input_size, hidden_size1)\n",
        "        self.fc2 = nn.Linear(hidden_size1, hidden_size2)\n",
        "        self.fc3 = nn.Linear(hidden_size2, hidden_size3)\n",
        "        self.fc4 = nn.Linear(hidden_size3, num_classes)\n",
        "        self.relu = nn.ReLU()\n",
        "\n",
        "    def forward(self, x):\n",
        "        x = x.view(x.size(0), -1)  # Flatten the input\n",
        "        x = self.relu(self.fc1(x))\n",
        "        x = self.relu(self.fc2(x))\n",
        "        x = self.relu(self.fc3(x))\n",
        "        x = self.fc4(x)\n",
        "        return x\n",
        "\n",
        "# Initialize the model and move it to the correct device\n",
        "input_size = 75 * 75 * 3  # Flattened size for 75x75 RGB images\n",
        "model = NeuralNetwork(input_size, 512, 256, 128, 3).to(device)\n",
        "\n",
        "# Define loss function and optimizer\n",
        "criterion = nn.CrossEntropyLoss()\n",
        "optimizer = optim.Adam(model.parameters(), lr=0.001)\n",
        "\n",
        "# Training loop\n",
        "num_epochs = 30\n",
        "for epoch in range(num_epochs):\n",
        "    model.train()\n",
        "    running_loss = 0.0\n",
        "\n",
        "    for images, labels in train_loader:\n",
        "        # Move images and labels to the correct device\n",
        "        images = images.to(device)\n",
        "        labels = labels.to(device)\n",
        "\n",
        "        # Flatten the images to [batch_size, 16875]\n",
        "        images = images.view(images.size(0), -1)\n",
        "\n",
        "        # Forward pass\n",
        "        outputs = model(images)\n",
        "        loss = criterion(outputs, labels)\n",
        "\n",
        "        # Backward pass and optimization\n",
        "        optimizer.zero_grad()\n",
        "        loss.backward()\n",
        "        optimizer.step()\n",
        "\n",
        "        running_loss += loss.item() * images.size(0)\n",
        "\n",
        "    epoch_loss = running_loss / len(train_loader.dataset)\n",
        "    print(f'Epoch [{epoch + 1}/{num_epochs}], Train Loss: {epoch_loss:.4f}')\n",
        "\n",
        "# Test the model\n",
        "model.eval()\n",
        "test_predictions = []\n",
        "image_paths = []\n",
        "\n",
        "with torch.no_grad():\n",
        "    for images, filenames in test_loader:\n",
        "        # Move images to the correct device\n",
        "        images = images.to(device)\n",
        "\n",
        "        # Flatten the images\n",
        "        images = images.view(images.size(0), -1)\n",
        "\n",
        "        # Perform inference\n",
        "        outputs = model(images)\n",
        "        _, predicted = torch.max(outputs, 1)\n",
        "\n",
        "        # Store predictions and corresponding filenames\n",
        "        test_predictions.extend(predicted.cpu().numpy())\n",
        "        image_paths.extend(filenames)\n",
        "\n",
        "# Save predictions to a CSV file without a header\n",
        "def save_predictions_to_csv(predictions, filenames, filename):\n",
        "    filenames = [os.path.basename(path) for path in filenames]\n",
        "    df = pd.DataFrame(list(zip(filenames, predictions)))\n",
        "    df.to_csv(filename, index=False, header=False)\n",
        "\n",
        "# Save the predictions\n",
        "save_predictions_to_csv(test_predictions, image_paths, '/content/drive/My Drive/test_predictions4.csv')\n",
        "\n",
        "print(\"Model training and testing complete. Predictions saved.\")\n"
      ],
      "metadata": {
        "colab": {
          "base_uri": "https://localhost:8080/"
        },
        "id": "Hgrf0XRjyYdb",
        "outputId": "8d8ca7df-59b9-4314-e32c-3e899bc4f194"
      },
      "execution_count": 6,
      "outputs": [
        {
          "output_type": "stream",
          "name": "stdout",
          "text": [
            "Epoch [1/30], Train Loss: 0.7951\n",
            "Epoch [2/30], Train Loss: 0.6815\n",
            "Epoch [3/30], Train Loss: 0.6716\n",
            "Epoch [4/30], Train Loss: 0.6776\n",
            "Epoch [5/30], Train Loss: 0.6624\n",
            "Epoch [6/30], Train Loss: 0.6523\n",
            "Epoch [7/30], Train Loss: 0.6588\n",
            "Epoch [8/30], Train Loss: 0.6465\n",
            "Epoch [9/30], Train Loss: 0.6453\n",
            "Epoch [10/30], Train Loss: 0.6490\n",
            "Epoch [11/30], Train Loss: 0.6348\n",
            "Epoch [12/30], Train Loss: 0.6399\n",
            "Epoch [13/30], Train Loss: 0.6567\n",
            "Epoch [14/30], Train Loss: 0.6424\n",
            "Epoch [15/30], Train Loss: 0.6475\n",
            "Epoch [16/30], Train Loss: 0.6296\n",
            "Epoch [17/30], Train Loss: 0.6337\n",
            "Epoch [18/30], Train Loss: 0.6250\n",
            "Epoch [19/30], Train Loss: 0.6153\n",
            "Epoch [20/30], Train Loss: 0.6168\n",
            "Epoch [21/30], Train Loss: 0.6122\n",
            "Epoch [22/30], Train Loss: 0.6044\n",
            "Epoch [23/30], Train Loss: 0.6112\n",
            "Epoch [24/30], Train Loss: 0.6162\n",
            "Epoch [25/30], Train Loss: 0.6108\n",
            "Epoch [26/30], Train Loss: 0.6060\n",
            "Epoch [27/30], Train Loss: 0.6068\n",
            "Epoch [28/30], Train Loss: 0.6010\n",
            "Epoch [29/30], Train Loss: 0.6063\n",
            "Epoch [30/30], Train Loss: 0.5893\n",
            "Model training and testing complete. Predictions saved.\n"
          ]
        }
      ]
    },
    {
      "cell_type": "markdown",
      "source": [
        "# 3. Evaluate your model using the developed software (10 points)\n",
        "## Grading Rubric:\n",
        "## (1). > = 50% -->10 points\n",
        "## (2). < 30 % -->0 points\n",
        "## (2). >= 30 % & < 50% -->0.5 point/percent"
      ],
      "metadata": {
        "id": "U1hWvmqvMvbt"
      }
    },
    {
      "cell_type": "markdown",
      "source": [
        "![Screenshot 2024-10-16 154257.png](data:image/png;base64,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)"
      ],
      "metadata": {
        "id": "8f8b8Xp08rTg"
      }
    },
    {
      "cell_type": "markdown",
      "source": [],
      "metadata": {
        "id": "GKr2H-HF8u3A"
      }
    }
  ]
}